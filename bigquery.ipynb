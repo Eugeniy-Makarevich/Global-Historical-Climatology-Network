{
 "cells": [
  {
   "cell_type": "markdown",
   "id": "2cf5414d-f39a-4f48-91c0-34117ae1a408",
   "metadata": {
    "tags": []
   },
   "source": [
    "# HOW MUCH HAS AVERAGE TEMPERATURE CHANGED IN THE LAST CENTURY?\n"
   ]
  },
  {
   "cell_type": "markdown",
   "id": "be6f2722-cf7c-4d29-9bdb-6a388512925e",
   "metadata": {},
   "source": [
    "\n",
    "## Preface"
   ]
  },
  {
   "cell_type": "markdown",
   "id": "1e910990-7388-45d2-888c-4d55466b251c",
   "metadata": {},
   "source": [
    "Earth is warming up; there are a lot of studies that report temperature rise during last centuries. [According](https://archive.ipcc.ch/ipccreports/tar/wg1/index.php?idp=5) to IPCC (The Intergovernmental Panel on Climate Change)  global average surface temperature has increased by 0.6 ± 0.2° over the 20th century. In this paper we will try to check out this fact using GHCN (Global Historical Climatology Network) [dataset](https://console.cloud.google.com/marketplace/details/noaa-public/ghcn-m?project=esoteric-parsec-376408). The GHCN-Monthly is a temperature dataset that contains monthly mean temperatures and is used for operational climate monitoring activities. It is comprised of climate records from over 7,000 stations.\n"
   ]
  },
  {
   "cell_type": "markdown",
   "id": "5ff48c67-1c40-44e1-8e3b-3087f144636f",
   "metadata": {},
   "source": [
    "## Exploring dataset"
   ]
  },
  {
   "cell_type": "markdown",
   "id": "7b6fbef6-34f0-493b-962b-59ffcc1a479e",
   "metadata": {},
   "source": [
    "Import modules and setup connection to dataset via Bigquery:"
   ]
  },
  {
   "cell_type": "code",
   "execution_count": 44,
   "id": "54c9750c-22f6-4205-9e60-2f2a0a681b6b",
   "metadata": {
    "tags": []
   },
   "outputs": [],
   "source": [
    "import db_dtypes\n",
    "import pandas as pd\n",
    "from google.cloud import bigquery\n",
    "import matplotlib.pyplot as plt\n",
    "import seaborn as sns\n",
    "# client initialization\n",
    "client = bigquery.Client()\n",
    "# constructing reference to dataset\n",
    "dataset_ref = client.dataset('ghcn_m', project='bigquery-public-data')\n",
    "# get dataset object\n",
    "dataset = client.get_dataset(dataset_ref)"
   ]
  },
  {
   "cell_type": "markdown",
   "id": "99273d07-6569-4f35-861b-ee4740bdd517",
   "metadata": {},
   "source": [
    "Check list of tables in dataset:"
   ]
  },
  {
   "cell_type": "code",
   "execution_count": 4,
   "id": "80643a04-f645-485d-b81a-2468660f6830",
   "metadata": {},
   "outputs": [
    {
     "name": "stdout",
     "output_type": "stream",
     "text": [
      "ghcnm_tavg\n",
      "ghcnm_tavg_stations\n",
      "ghcnm_tmax\n",
      "ghcnm_tmax_stations\n",
      "ghcnm_tmin\n",
      "ghcnm_tmin_stations\n"
     ]
    }
   ],
   "source": [
    "for table in client.list_tables(dataset):\n",
    "    print(table.table_id)"
   ]
  },
  {
   "cell_type": "markdown",
   "id": "ce9295b0-7d90-4ca7-b10c-004f1d16aa07",
   "metadata": {},
   "source": [
    "Let's take a look on ghcnm_tavg table:"
   ]
  },
  {
   "cell_type": "code",
   "execution_count": 45,
   "id": "1d3eae34-598b-4db3-b7bd-9f3aab8ebb29",
   "metadata": {},
   "outputs": [
    {
     "data": {
      "text/html": [
       "<div>\n",
       "<style scoped>\n",
       "    .dataframe tbody tr th:only-of-type {\n",
       "        vertical-align: middle;\n",
       "    }\n",
       "\n",
       "    .dataframe tbody tr th {\n",
       "        vertical-align: top;\n",
       "    }\n",
       "\n",
       "    .dataframe thead th {\n",
       "        text-align: right;\n",
       "    }\n",
       "</style>\n",
       "<table border=\"1\" class=\"dataframe\">\n",
       "  <thead>\n",
       "    <tr style=\"text-align: right;\">\n",
       "      <th></th>\n",
       "      <th>id</th>\n",
       "      <th>year</th>\n",
       "      <th>element</th>\n",
       "      <th>value1</th>\n",
       "      <th>dmflag1</th>\n",
       "      <th>qcflag1</th>\n",
       "      <th>dsflag1</th>\n",
       "      <th>value2</th>\n",
       "      <th>dmflag2</th>\n",
       "      <th>qcflag2</th>\n",
       "      <th>...</th>\n",
       "      <th>qcflag10</th>\n",
       "      <th>dsflag10</th>\n",
       "      <th>value11</th>\n",
       "      <th>dmflag11</th>\n",
       "      <th>qcflag11</th>\n",
       "      <th>dsflag11</th>\n",
       "      <th>value12</th>\n",
       "      <th>dmflag12</th>\n",
       "      <th>qcflag12</th>\n",
       "      <th>dsflag12</th>\n",
       "    </tr>\n",
       "  </thead>\n",
       "  <tbody>\n",
       "    <tr>\n",
       "      <th>0</th>\n",
       "      <td>10160355000</td>\n",
       "      <td>1931</td>\n",
       "      <td>TAVG</td>\n",
       "      <td>-9999</td>\n",
       "      <td>None</td>\n",
       "      <td>None</td>\n",
       "      <td>None</td>\n",
       "      <td>1035</td>\n",
       "      <td>None</td>\n",
       "      <td>None</td>\n",
       "      <td>...</td>\n",
       "      <td>None</td>\n",
       "      <td>1</td>\n",
       "      <td>1615</td>\n",
       "      <td>None</td>\n",
       "      <td>None</td>\n",
       "      <td>1</td>\n",
       "      <td>1125</td>\n",
       "      <td>None</td>\n",
       "      <td>None</td>\n",
       "      <td>1</td>\n",
       "    </tr>\n",
       "    <tr>\n",
       "      <th>1</th>\n",
       "      <td>10160355000</td>\n",
       "      <td>1933</td>\n",
       "      <td>TAVG</td>\n",
       "      <td>-9999</td>\n",
       "      <td>None</td>\n",
       "      <td>None</td>\n",
       "      <td>None</td>\n",
       "      <td>-9999</td>\n",
       "      <td>None</td>\n",
       "      <td>None</td>\n",
       "      <td>...</td>\n",
       "      <td>None</td>\n",
       "      <td>1</td>\n",
       "      <td>1545</td>\n",
       "      <td>None</td>\n",
       "      <td>None</td>\n",
       "      <td>1</td>\n",
       "      <td>1195</td>\n",
       "      <td>None</td>\n",
       "      <td>None</td>\n",
       "      <td>1</td>\n",
       "    </tr>\n",
       "    <tr>\n",
       "      <th>2</th>\n",
       "      <td>10160355000</td>\n",
       "      <td>1935</td>\n",
       "      <td>TAVG</td>\n",
       "      <td>925</td>\n",
       "      <td>None</td>\n",
       "      <td>None</td>\n",
       "      <td>1</td>\n",
       "      <td>1155</td>\n",
       "      <td>None</td>\n",
       "      <td>None</td>\n",
       "      <td>...</td>\n",
       "      <td>None</td>\n",
       "      <td>None</td>\n",
       "      <td>1555</td>\n",
       "      <td>None</td>\n",
       "      <td>None</td>\n",
       "      <td>1</td>\n",
       "      <td>1315</td>\n",
       "      <td>None</td>\n",
       "      <td>None</td>\n",
       "      <td>1</td>\n",
       "    </tr>\n",
       "    <tr>\n",
       "      <th>3</th>\n",
       "      <td>10160355000</td>\n",
       "      <td>1941</td>\n",
       "      <td>TAVG</td>\n",
       "      <td>1215</td>\n",
       "      <td>None</td>\n",
       "      <td>None</td>\n",
       "      <td>1</td>\n",
       "      <td>-9999</td>\n",
       "      <td>None</td>\n",
       "      <td>None</td>\n",
       "      <td>...</td>\n",
       "      <td>None</td>\n",
       "      <td>None</td>\n",
       "      <td>-9999</td>\n",
       "      <td>None</td>\n",
       "      <td>None</td>\n",
       "      <td>None</td>\n",
       "      <td>-9999</td>\n",
       "      <td>None</td>\n",
       "      <td>None</td>\n",
       "      <td>None</td>\n",
       "    </tr>\n",
       "    <tr>\n",
       "      <th>4</th>\n",
       "      <td>10160355000</td>\n",
       "      <td>1966</td>\n",
       "      <td>TAVG</td>\n",
       "      <td>-9999</td>\n",
       "      <td>None</td>\n",
       "      <td>None</td>\n",
       "      <td>None</td>\n",
       "      <td>-9999</td>\n",
       "      <td>None</td>\n",
       "      <td>None</td>\n",
       "      <td>...</td>\n",
       "      <td>None</td>\n",
       "      <td>None</td>\n",
       "      <td>1395</td>\n",
       "      <td>None</td>\n",
       "      <td>None</td>\n",
       "      <td>0</td>\n",
       "      <td>1165</td>\n",
       "      <td>None</td>\n",
       "      <td>None</td>\n",
       "      <td>0</td>\n",
       "    </tr>\n",
       "  </tbody>\n",
       "</table>\n",
       "<p>5 rows × 51 columns</p>\n",
       "</div>"
      ],
      "text/plain": [
       "            id  year element  value1 dmflag1 qcflag1 dsflag1  value2 dmflag2  \\\n",
       "0  10160355000  1931    TAVG   -9999    None    None    None    1035    None   \n",
       "1  10160355000  1933    TAVG   -9999    None    None    None   -9999    None   \n",
       "2  10160355000  1935    TAVG     925    None    None       1    1155    None   \n",
       "3  10160355000  1941    TAVG    1215    None    None       1   -9999    None   \n",
       "4  10160355000  1966    TAVG   -9999    None    None    None   -9999    None   \n",
       "\n",
       "  qcflag2  ... qcflag10  dsflag10 value11 dmflag11 qcflag11  dsflag11 value12  \\\n",
       "0    None  ...     None         1    1615     None     None         1    1125   \n",
       "1    None  ...     None         1    1545     None     None         1    1195   \n",
       "2    None  ...     None      None    1555     None     None         1    1315   \n",
       "3    None  ...     None      None   -9999     None     None      None   -9999   \n",
       "4    None  ...     None      None    1395     None     None         0    1165   \n",
       "\n",
       "  dmflag12 qcflag12  dsflag12  \n",
       "0     None     None         1  \n",
       "1     None     None         1  \n",
       "2     None     None         1  \n",
       "3     None     None      None  \n",
       "4     None     None         0  \n",
       "\n",
       "[5 rows x 51 columns]"
      ]
     },
     "execution_count": 45,
     "metadata": {},
     "output_type": "execute_result"
    }
   ],
   "source": [
    "ghcnm_tavg_ref = dataset_ref.table('ghcnm_tavg')  # get table reference\n",
    "ghcnm_tavg = client.get_table(ghcnm_tavg_ref)\n",
    "client.list_rows(ghcnm_tavg, max_results=5).to_dataframe()"
   ]
  },
  {
   "cell_type": "markdown",
   "id": "e1d3e06e-a7d0-4cf6-882d-b813f5b2db4d",
   "metadata": {},
   "source": [
    "Table contains 12 value_n columns (presumably one for each month), but they don't look like temperature numbers. So we should refer to table schema:"
   ]
  },
  {
   "cell_type": "code",
   "execution_count": 18,
   "id": "2e046661-3537-4c33-bbce-39b4370d8446",
   "metadata": {},
   "outputs": [
    {
     "data": {
      "text/plain": [
       "[SchemaField('element', 'STRING', 'NULLABLE', None, 'element type, monthly mean temperature=\"TAVG\" monthly maximum temperature=\"TMAX\" monthly minimum temperature=\"TMIN\"', (), None),\n",
       " SchemaField('value1', 'INTEGER', 'NULLABLE', None, 'monthly value (MISSING=-9999). Temperature values are in hundredths of a degree Celsius, but are expressed as whole integers (e.g. divide by 100.0 to get whole degrees Celsius).', (), None)]"
      ]
     },
     "execution_count": 18,
     "metadata": {},
     "output_type": "execute_result"
    }
   ],
   "source": [
    "ghcnm_tavg.schema[2:4]"
   ]
  },
  {
   "cell_type": "markdown",
   "id": "bedca6f0-ca01-4bfb-8da7-1351623a6fd7",
   "metadata": {},
   "source": [
    "As we can see, table contains monthly mean temperature with values in hundredths of a degree Celsius, so we can treat them correctly. Other columns to use. Also, we will use columns year and station id."
   ]
  },
  {
   "cell_type": "markdown",
   "id": "4028078e-c19a-44aa-a5d1-fd17ad65582a",
   "metadata": {},
   "source": [
    "## Annual mean temperature change in 20th century\n"
   ]
  },
  {
   "cell_type": "markdown",
   "id": "d274076b-fb4f-4cf7-bf9d-cab3b95571f4",
   "metadata": {},
   "source": [
    "### Average temperature in 1900 and 2000"
   ]
  },
  {
   "cell_type": "markdown",
   "id": "8d64eb81-194a-4edf-84fe-89b8cdaedacd",
   "metadata": {},
   "source": [
    "Let's compare average year temperature in 1900 and 2000. First we'll create CTE expression that constructs table with annual mean temperature. Also, this query discards rows with missing values:"
   ]
  },
  {
   "cell_type": "code",
   "execution_count": 42,
   "id": "4f61e06e-be6c-49dc-8c96-e23c741eb67d",
   "metadata": {},
   "outputs": [
    {
     "data": {
      "text/html": [
       "<div>\n",
       "<style scoped>\n",
       "    .dataframe tbody tr th:only-of-type {\n",
       "        vertical-align: middle;\n",
       "    }\n",
       "\n",
       "    .dataframe tbody tr th {\n",
       "        vertical-align: top;\n",
       "    }\n",
       "\n",
       "    .dataframe thead th {\n",
       "        text-align: right;\n",
       "    }\n",
       "</style>\n",
       "<table border=\"1\" class=\"dataframe\">\n",
       "  <thead>\n",
       "    <tr style=\"text-align: right;\">\n",
       "      <th></th>\n",
       "      <th>id</th>\n",
       "      <th>year</th>\n",
       "      <th>mean_temperature</th>\n",
       "    </tr>\n",
       "  </thead>\n",
       "  <tbody>\n",
       "    <tr>\n",
       "      <th>0</th>\n",
       "      <td>10160355000</td>\n",
       "      <td>1967</td>\n",
       "      <td>17.741667</td>\n",
       "    </tr>\n",
       "    <tr>\n",
       "      <th>1</th>\n",
       "      <td>10160355000</td>\n",
       "      <td>1968</td>\n",
       "      <td>18.166667</td>\n",
       "    </tr>\n",
       "    <tr>\n",
       "      <th>2</th>\n",
       "      <td>10160355000</td>\n",
       "      <td>1969</td>\n",
       "      <td>17.550000</td>\n",
       "    </tr>\n",
       "  </tbody>\n",
       "</table>\n",
       "</div>"
      ],
      "text/plain": [
       "            id  year  mean_temperature\n",
       "0  10160355000  1967         17.741667\n",
       "1  10160355000  1968         18.166667\n",
       "2  10160355000  1969         17.550000"
      ]
     },
     "execution_count": 42,
     "metadata": {},
     "output_type": "execute_result"
    }
   ],
   "source": [
    "query_annual_mean = \"\"\"\n",
    "          WITH annual_mean AS(\n",
    "          SELECT id,year,(value1+value2+value3+value4+value5+value6+\n",
    "                             value7+value8+value9+value10+value11+value12)\n",
    "                             /100.0/12 AS mean_temperature\n",
    "         FROM `bigquery-public-data.ghcn_m.ghcnm_tavg`\n",
    "         WHERE value1 <> -9999 AND\n",
    "               value2 <> -9999 AND\n",
    "               value3 <> -9999 AND\n",
    "               value4 <> -9999 AND\n",
    "               value5 <> -9999 AND\n",
    "               value6 <> -9999 AND\n",
    "               value7 <> -9999 AND\n",
    "               value8 <> -9999 AND\n",
    "               value9 <> -9999 AND\n",
    "               value10 <> -9999 AND\n",
    "               value11 <> -9999 AND\n",
    "               value12 <> -9999)\n",
    "          \"\"\"\n",
    "query_view = \"\"\"{}\n",
    "                SELECT * \n",
    "                FROM annual_mean\n",
    "                LIMIT 3\n",
    "             \"\"\".format(query_annual_mean)\n",
    "query_job = client.query(query_view)\n",
    "query_job.to_dataframe().head()\n"
   ]
  },
  {
   "cell_type": "markdown",
   "id": "be370aa9-ae24-443e-898c-554d6d155ab0",
   "metadata": {},
   "source": [
    "Now we can calculate mean temperature in 1900 and 2000:"
   ]
  },
  {
   "cell_type": "code",
   "execution_count": 78,
   "id": "aa6b3ed1-5e0a-4235-a126-ff4a4b9b4715",
   "metadata": {},
   "outputs": [
    {
     "data": {
      "text/html": [
       "<div>\n",
       "<style scoped>\n",
       "    .dataframe tbody tr th:only-of-type {\n",
       "        vertical-align: middle;\n",
       "    }\n",
       "\n",
       "    .dataframe tbody tr th {\n",
       "        vertical-align: top;\n",
       "    }\n",
       "\n",
       "    .dataframe thead th {\n",
       "        text-align: right;\n",
       "    }\n",
       "</style>\n",
       "<table border=\"1\" class=\"dataframe\">\n",
       "  <thead>\n",
       "    <tr style=\"text-align: right;\">\n",
       "      <th></th>\n",
       "      <th>year</th>\n",
       "      <th>mean_temperature</th>\n",
       "    </tr>\n",
       "  </thead>\n",
       "  <tbody>\n",
       "    <tr>\n",
       "      <th>0</th>\n",
       "      <td>1900</td>\n",
       "      <td>11.660771</td>\n",
       "    </tr>\n",
       "    <tr>\n",
       "      <th>1</th>\n",
       "      <td>2000</td>\n",
       "      <td>13.042306</td>\n",
       "    </tr>\n",
       "  </tbody>\n",
       "</table>\n",
       "</div>"
      ],
      "text/plain": [
       "   year  mean_temperature\n",
       "0  1900         11.660771\n",
       "1  2000         13.042306"
      ]
     },
     "execution_count": 78,
     "metadata": {},
     "output_type": "execute_result"
    }
   ],
   "source": [
    "query_1 = \"\"\"{}\n",
    "             SELECT year, AVG(mean_temperature) AS mean_temperature\n",
    "             FROM annual_mean\n",
    "             WHERE year IN (1900,2000)\n",
    "             GROUP BY year\n",
    "             ORDER BY year\n",
    "           \"\"\".format(query_annual_mean)\n",
    "query_job = client.query(query_1)\n",
    "query_job.to_dataframe().head()"
   ]
  },
  {
   "cell_type": "markdown",
   "id": "1be485ed-dc2e-4b08-922f-c6314c99a370",
   "metadata": {},
   "source": [
    "### Moving average"
   ]
  },
  {
   "cell_type": "markdown",
   "id": "da6f9032-a8f3-4e14-bc33-83b33192c4b4",
   "metadata": {},
   "source": [
    "We have got about 1.4° of temperature rise. This is much bigger than value reported by IPCC,so we should assume that 1900 or 2000 was not an 'average' year. This problem could be addressed by using moving average over decade:"
   ]
  },
  {
   "cell_type": "code",
   "execution_count": 79,
   "id": "6ee01595-5db6-4703-8412-0aa9a21c803a",
   "metadata": {},
   "outputs": [
    {
     "data": {
      "text/html": [
       "<div>\n",
       "<style scoped>\n",
       "    .dataframe tbody tr th:only-of-type {\n",
       "        vertical-align: middle;\n",
       "    }\n",
       "\n",
       "    .dataframe tbody tr th {\n",
       "        vertical-align: top;\n",
       "    }\n",
       "\n",
       "    .dataframe thead th {\n",
       "        text-align: right;\n",
       "    }\n",
       "</style>\n",
       "<table border=\"1\" class=\"dataframe\">\n",
       "  <thead>\n",
       "    <tr style=\"text-align: right;\">\n",
       "      <th></th>\n",
       "      <th>year</th>\n",
       "      <th>mean_temperature</th>\n",
       "    </tr>\n",
       "  </thead>\n",
       "  <tbody>\n",
       "    <tr>\n",
       "      <th>0</th>\n",
       "      <td>1900</td>\n",
       "      <td>11.279154</td>\n",
       "    </tr>\n",
       "    <tr>\n",
       "      <th>1</th>\n",
       "      <td>2000</td>\n",
       "      <td>13.024359</td>\n",
       "    </tr>\n",
       "  </tbody>\n",
       "</table>\n",
       "</div>"
      ],
      "text/plain": [
       "   year  mean_temperature\n",
       "0  1900         11.279154\n",
       "1  2000         13.024359"
      ]
     },
     "execution_count": 79,
     "metadata": {},
     "output_type": "execute_result"
    }
   ],
   "source": [
    "query_2 = \"\"\"{},\n",
    "             moving_avg AS(\n",
    "             SELECT year,AVG(AVG(mean_temperature)) OVER\n",
    "                        (ORDER BY year DESC ROWS BETWEEN 5 PRECEDING AND 5 FOLLOWING) as mean_temperature\n",
    "             FROM annual_mean\n",
    "             GROUP BY year)\n",
    "             SELECT *\n",
    "             FROM moving_avg\n",
    "             WHERE year IN (1900,2000)\n",
    "             ORDER BY year\n",
    "              \"\"\".format(query_annual_mean)\n",
    "query_job = client.query(query_2)\n",
    "query_job.to_dataframe().head()\n"
   ]
  },
  {
   "cell_type": "markdown",
   "id": "0f3d3cda-20ea-45e7-960c-334e93dfad7b",
   "metadata": {},
   "source": [
    "### Mean with matching stations"
   ]
  },
  {
   "cell_type": "markdown",
   "id": "31ed4daa-967a-4337-9cc1-e649d0004fe3",
   "metadata": {},
   "source": [
    "We have got value of 1.8°C in temperature change that is even bigger. But what if difference is caused by new stations that have been implemented during 20th century? Let's check how many stations were there in 1900 and 2000:"
   ]
  },
  {
   "cell_type": "code",
   "execution_count": 80,
   "id": "f2fda6b5-9fad-41b0-b9e3-71ddd6ee65af",
   "metadata": {},
   "outputs": [
    {
     "data": {
      "text/html": [
       "<div>\n",
       "<style scoped>\n",
       "    .dataframe tbody tr th:only-of-type {\n",
       "        vertical-align: middle;\n",
       "    }\n",
       "\n",
       "    .dataframe tbody tr th {\n",
       "        vertical-align: top;\n",
       "    }\n",
       "\n",
       "    .dataframe thead th {\n",
       "        text-align: right;\n",
       "    }\n",
       "</style>\n",
       "<table border=\"1\" class=\"dataframe\">\n",
       "  <thead>\n",
       "    <tr style=\"text-align: right;\">\n",
       "      <th></th>\n",
       "      <th>year</th>\n",
       "      <th>number_of_stations</th>\n",
       "    </tr>\n",
       "  </thead>\n",
       "  <tbody>\n",
       "    <tr>\n",
       "      <th>0</th>\n",
       "      <td>1900</td>\n",
       "      <td>1195</td>\n",
       "    </tr>\n",
       "    <tr>\n",
       "      <th>1</th>\n",
       "      <td>2000</td>\n",
       "      <td>2042</td>\n",
       "    </tr>\n",
       "  </tbody>\n",
       "</table>\n",
       "</div>"
      ],
      "text/plain": [
       "   year  number_of_stations\n",
       "0  1900                1195\n",
       "1  2000                2042"
      ]
     },
     "execution_count": 80,
     "metadata": {},
     "output_type": "execute_result"
    }
   ],
   "source": [
    "query_3 = \"\"\"{}\n",
    "             SELECT year, COUNT(1) AS number_of_stations\n",
    "             FROM annual_mean\n",
    "             WHERE year IN (1900,2000)\n",
    "             GROUP BY year\n",
    "             ORDER BY year\n",
    "           \"\"\".format(query_annual_mean)\n",
    "query_job = client.query(query_3)\n",
    "query_job.to_dataframe().head()"
   ]
  },
  {
   "cell_type": "markdown",
   "id": "6971e5c9-5ac4-42d2-88dd-c846c4b9f85e",
   "metadata": {},
   "source": [
    "Amount of stations was almost doubled since 1900. What if some of them were built at hotter places? This time we are going to calculate mean temperature only with stations that have records both for 1900 and 2000:"
   ]
  },
  {
   "cell_type": "code",
   "execution_count": 81,
   "id": "fb0beeda-3e26-47d5-b919-6cf439d36305",
   "metadata": {},
   "outputs": [
    {
     "data": {
      "text/html": [
       "<div>\n",
       "<style scoped>\n",
       "    .dataframe tbody tr th:only-of-type {\n",
       "        vertical-align: middle;\n",
       "    }\n",
       "\n",
       "    .dataframe tbody tr th {\n",
       "        vertical-align: top;\n",
       "    }\n",
       "\n",
       "    .dataframe thead th {\n",
       "        text-align: right;\n",
       "    }\n",
       "</style>\n",
       "<table border=\"1\" class=\"dataframe\">\n",
       "  <thead>\n",
       "    <tr style=\"text-align: right;\">\n",
       "      <th></th>\n",
       "      <th>year</th>\n",
       "      <th>mean_temperature</th>\n",
       "      <th>f0_</th>\n",
       "    </tr>\n",
       "  </thead>\n",
       "  <tbody>\n",
       "    <tr>\n",
       "      <th>0</th>\n",
       "      <td>1900</td>\n",
       "      <td>10.955694</td>\n",
       "      <td>580</td>\n",
       "    </tr>\n",
       "    <tr>\n",
       "      <th>1</th>\n",
       "      <td>2000</td>\n",
       "      <td>11.906104</td>\n",
       "      <td>580</td>\n",
       "    </tr>\n",
       "  </tbody>\n",
       "</table>\n",
       "</div>"
      ],
      "text/plain": [
       "   year  mean_temperature  f0_\n",
       "0  1900         10.955694  580\n",
       "1  2000         11.906104  580"
      ]
     },
     "execution_count": 81,
     "metadata": {},
     "output_type": "execute_result"
    }
   ],
   "source": [
    "query_4 = \"\"\"{},\n",
    "             moving_avg AS(\n",
    "             SELECT year,AVG(AVG(mean_temperature)) OVER\n",
    "                        (ORDER BY year DESC ROWS BETWEEN 5 PRECEDING AND 5 FOLLOWING) as mean_temperature,\n",
    "                        COUNT(id)\n",
    "             FROM annual_mean\n",
    "             WHERE id IN (SELECT id \n",
    "                          FROM annual_mean\n",
    "                          WHERE year = 2000 AND\n",
    "                                id IN\n",
    "                                    (SELECT id\n",
    "                                     FROM annual_mean\n",
    "                                     WHERE year = 1900))\n",
    "             GROUP BY year)\n",
    "             SELECT *\n",
    "             FROM moving_avg\n",
    "             WHERE year IN (1900,2000)\n",
    "             ORDER BY year\n",
    "              \"\"\".format(query_annual_mean)\n",
    "query_job = client.query(query_4)\n",
    "query_job.to_dataframe().head()"
   ]
  },
  {
   "cell_type": "code",
   "execution_count": 83,
   "id": "5b38154a-8ed9-4a60-abf4-fa16209d7863",
   "metadata": {},
   "outputs": [
    {
     "data": {
      "image/png": "[encoded data removed]",
      "text/plain": [
       "<Figure size 640x480 with 1 Axes>"
      ]
     },
     "metadata": {},
     "output_type": "display_data"
    }
   ],
   "source": [
    "query = \"\"\"{}\n",
    "        SELECT year,AVG(mean_temperature ) AS mean_temperature,COUNT(1) as number_of_stations\n",
    "        FROM annual_mean\n",
    "        WHERE  year BETWEEN 1900 AND 2000\n",
    "        GROUP BY year\n",
    "           \"\"\".format(query_annual_mean)\n",
    "query_job = client.query(query)\n",
    "data = query_job.to_dataframe()\n",
    "sns.scatterplot(data=data, x=\"year\", y=\"mean_temperature\",\n",
    "                size=\"number_of_stations\", legend=False, sizes=(20, 500))\n",
    "plt.show()"
   ]
  },
  {
   "cell_type": "code",
   "execution_count": null,
   "id": "9b3d7116-1a60-4b7d-ae5a-2cf22af658f7",
   "metadata": {},
   "outputs": [],
   "source": []
  },
  {
   "cell_type": "code",
   "execution_count": null,
   "id": "55593013-e40f-4339-bb89-0e7f83f33f6e",
   "metadata": {},
   "outputs": [],
   "source": []
  }
 ],
 "metadata": {
  "kernelspec": {
   "display_name": "Python 3 (ipykernel)",
   "language": "python",
   "name": "python3"
  },
  "language_info": {
   "codemirror_mode": {
    "name": "ipython",
    "version": 3
   },
   "file_extension": ".py",
   "mimetype": "text/x-python",
   "name": "python",
   "nbconvert_exporter": "python",
   "pygments_lexer": "ipython3",
   "version": "3.10.8"
  }
 },
 "nbformat": 4,
 "nbformat_minor": 5
}
